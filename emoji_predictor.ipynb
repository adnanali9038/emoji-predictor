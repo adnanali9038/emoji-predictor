{
 "cells": [
  {
   "cell_type": "code",
   "execution_count": 1,
   "metadata": {},
   "outputs": [],
   "source": [
    "import numpy as np\n",
    "import pandas as pd\n",
    "import matplotlib.pyplot as plt\n",
    "import emoji"
   ]
  },
  {
   "cell_type": "code",
   "execution_count": 4,
   "metadata": {},
   "outputs": [],
   "source": [
    "emoji_dictionary={\n",
    "    \"0\":\"\\u2764\\uFE0F\",\n",
    "    \"1\":\":baseball:\",\n",
    "    \"2\":\":grinning_face_with_big_eyes:\",\n",
    "    \"3\":\":downcast_face_with_sweat:\",\n",
    "    \"4\":\":fork_and_knife:\"\n",
    "}"
   ]
  },
  {
   "cell_type": "code",
   "execution_count": 5,
   "metadata": {},
   "outputs": [
    {
     "name": "stdout",
     "output_type": "stream",
     "text": [
      "❤️\n",
      "⚾\n",
      "😃\n",
      "😓\n",
      "🍴\n"
     ]
    }
   ],
   "source": [
    "for e in emoji_dictionary.values():\n",
    "    print(emoji.emojize(e))"
   ]
  },
  {
   "cell_type": "code",
   "execution_count": 36,
   "metadata": {},
   "outputs": [
    {
     "data": {
      "text/html": [
       "<div>\n",
       "<style scoped>\n",
       "    .dataframe tbody tr th:only-of-type {\n",
       "        vertical-align: middle;\n",
       "    }\n",
       "\n",
       "    .dataframe tbody tr th {\n",
       "        vertical-align: top;\n",
       "    }\n",
       "\n",
       "    .dataframe thead th {\n",
       "        text-align: right;\n",
       "    }\n",
       "</style>\n",
       "<table border=\"1\" class=\"dataframe\">\n",
       "  <thead>\n",
       "    <tr style=\"text-align: right;\">\n",
       "      <th></th>\n",
       "      <th>0</th>\n",
       "      <th>1</th>\n",
       "      <th>2</th>\n",
       "      <th>3</th>\n",
       "    </tr>\n",
       "  </thead>\n",
       "  <tbody>\n",
       "    <tr>\n",
       "      <th>0</th>\n",
       "      <td>never talk to me again</td>\n",
       "      <td>3</td>\n",
       "      <td>NaN</td>\n",
       "      <td>NaN</td>\n",
       "    </tr>\n",
       "    <tr>\n",
       "      <th>1</th>\n",
       "      <td>I am proud of your achievements</td>\n",
       "      <td>2</td>\n",
       "      <td>NaN</td>\n",
       "      <td>NaN</td>\n",
       "    </tr>\n",
       "    <tr>\n",
       "      <th>2</th>\n",
       "      <td>It is the worst day in my life</td>\n",
       "      <td>3</td>\n",
       "      <td>NaN</td>\n",
       "      <td>NaN</td>\n",
       "    </tr>\n",
       "    <tr>\n",
       "      <th>3</th>\n",
       "      <td>Miss you so much</td>\n",
       "      <td>0</td>\n",
       "      <td>NaN</td>\n",
       "      <td>[0]</td>\n",
       "    </tr>\n",
       "    <tr>\n",
       "      <th>4</th>\n",
       "      <td>food is life</td>\n",
       "      <td>4</td>\n",
       "      <td>NaN</td>\n",
       "      <td>NaN</td>\n",
       "    </tr>\n",
       "  </tbody>\n",
       "</table>\n",
       "</div>"
      ],
      "text/plain": [
       "                                 0  1   2     3\n",
       "0           never talk to me again  3 NaN   NaN\n",
       "1  I am proud of your achievements  2 NaN   NaN\n",
       "2   It is the worst day in my life  3 NaN   NaN\n",
       "3                 Miss you so much  0 NaN   [0]\n",
       "4                     food is life  4 NaN   NaN"
      ]
     },
     "execution_count": 36,
     "metadata": {},
     "output_type": "execute_result"
    }
   ],
   "source": [
    "train=pd.read_csv(\"train_emoji.csv\",header=None)\n",
    "test=pd.read_csv(\"test_emoji.csv\",header=None)\n",
    "train.head()"
   ]
  },
  {
   "cell_type": "code",
   "execution_count": 37,
   "metadata": {},
   "outputs": [],
   "source": [
    "\n",
    "data=train.values\n"
   ]
  },
  {
   "cell_type": "code",
   "execution_count": 38,
   "metadata": {},
   "outputs": [
    {
     "name": "stdout",
     "output_type": "stream",
     "text": [
      "never talk to me again\n",
      "I am proud of your achievements\n",
      "It is the worst day in my life\n",
      "Miss you so much\n",
      "food is life\n",
      "I love you mum\n",
      "Stop saying bullshit\n",
      "congratulations on your acceptance\n",
      "The assignment is too long \n",
      "I want to go play\n"
     ]
    }
   ],
   "source": [
    "for i in range(10):\n",
    "    print(data[i][0])"
   ]
  },
  {
   "cell_type": "code",
   "execution_count": 39,
   "metadata": {},
   "outputs": [
    {
     "name": "stdout",
     "output_type": "stream",
     "text": [
      "😓\n",
      "😃\n",
      "😓\n",
      "❤️\n",
      "🍴\n",
      "❤️\n",
      "😓\n",
      "😃\n",
      "😓\n",
      "⚾\n"
     ]
    }
   ],
   "source": [
    "for i in range(10):\n",
    "    print(emoji.emojize(emoji_dictionary[str(data[i][1])]))"
   ]
  },
  {
   "cell_type": "code",
   "execution_count": 44,
   "metadata": {},
   "outputs": [],
   "source": [
    "from keras.utils import to_categorical\n",
    "XT=train[0]\n",
    "YT=to_categorical(train[1])\n",
    "Xt=test[0]\n",
    "Yt=to_categorical(test[1])"
   ]
  },
  {
   "cell_type": "code",
   "execution_count": 45,
   "metadata": {},
   "outputs": [
    {
     "data": {
      "text/plain": [
       "(132, 5)"
      ]
     },
     "execution_count": 45,
     "metadata": {},
     "output_type": "execute_result"
    }
   ],
   "source": [
    "XT.shape\n",
    "YT.shape"
   ]
  },
  {
   "cell_type": "code",
   "execution_count": 47,
   "metadata": {},
   "outputs": [],
   "source": [
    "f=open('glove.6B.50d.txt',encoding='utf-8')\n",
    "embedding_index={}\n",
    "for line in f:\n",
    "    values=line.split()\n",
    "    word=values[0]\n",
    "    coefs=np.asarray(values[1:],dtype='float32')\n",
    "    embedding_index[word]=coefs\n",
    "f.close()\n"
   ]
  },
  {
   "cell_type": "code",
   "execution_count": 48,
   "metadata": {},
   "outputs": [
    {
     "data": {
      "text/plain": [
       "array([ 6.4295e-01, -4.2946e-01, -5.4277e-01, -1.0307e+00,  1.2056e+00,\n",
       "       -2.7174e-01, -6.3561e-01, -1.5065e-02,  3.7856e-01,  4.6474e-02,\n",
       "       -1.3102e-01,  6.0500e-01,  1.6391e+00,  2.3940e-01,  1.2128e+00,\n",
       "        8.3178e-01,  7.3893e-01,  1.5200e-01, -1.4175e-01, -8.8384e-01,\n",
       "        2.0829e-02, -3.2545e-01,  1.8035e+00,  1.0045e+00,  5.8484e-01,\n",
       "       -6.2031e-01, -4.3296e-01,  2.3562e-01,  1.3027e+00, -8.1264e-01,\n",
       "        2.3158e+00,  1.1030e+00, -6.0608e-01,  1.0101e+00, -2.2426e-01,\n",
       "        1.8908e-02, -1.0931e-01,  3.8350e-01,  7.7362e-01, -8.1927e-02,\n",
       "       -3.4040e-01, -1.5143e-03, -5.6640e-02,  8.7359e-01,  1.4805e+00,\n",
       "        6.9421e-01, -3.0966e-01, -9.0826e-01,  3.7277e-03,  8.4550e-01],\n",
       "      dtype=float32)"
      ]
     },
     "execution_count": 48,
     "metadata": {},
     "output_type": "execute_result"
    }
   ],
   "source": [
    "embedding_index[\"eat\"]"
   ]
  },
  {
   "cell_type": "code",
   "execution_count": 49,
   "metadata": {},
   "outputs": [],
   "source": [
    "def embedding_output(X):\n",
    "    maxLen=10\n",
    "    #emb_dim=embedding_index[\"eat\"].shape[0]\n",
    "    embedding_out=np.zeros((X.shape[0],maxLen,50))\n",
    "    for ix in range(X.shape[0]):\n",
    "        X[ix]=X[ix].split()\n",
    "        for ij in range(len(X[ix])):\n",
    "            embedding_out[ix][ij]=embedding_index[X[ix][ij].lower()]\n",
    "    return embedding_out"
   ]
  },
  {
   "cell_type": "code",
   "execution_count": 50,
   "metadata": {},
   "outputs": [
    {
     "name": "stderr",
     "output_type": "stream",
     "text": [
      "<ipython-input-49-df15d4713c94>:6: SettingWithCopyWarning: \n",
      "A value is trying to be set on a copy of a slice from a DataFrame\n",
      "\n",
      "See the caveats in the documentation: https://pandas.pydata.org/pandas-docs/stable/user_guide/indexing.html#returning-a-view-versus-a-copy\n",
      "  X[ix]=X[ix].split()\n"
     ]
    }
   ],
   "source": [
    "embedding_matrix_train=embedding_output(XT)\n",
    "embedding_matrix_test=embedding_output(Xt)"
   ]
  },
  {
   "cell_type": "code",
   "execution_count": 51,
   "metadata": {},
   "outputs": [
    {
     "name": "stdout",
     "output_type": "stream",
     "text": [
      "(132, 10, 50)\n",
      "(56, 10, 50)\n"
     ]
    }
   ],
   "source": [
    "print(embedding_matrix_train.shape)\n",
    "print(embedding_matrix_test.shape)"
   ]
  },
  {
   "cell_type": "code",
   "execution_count": 52,
   "metadata": {},
   "outputs": [],
   "source": [
    "from keras.models import Sequential\n",
    "from keras.layers import *"
   ]
  },
  {
   "cell_type": "code",
   "execution_count": 56,
   "metadata": {},
   "outputs": [
    {
     "name": "stdout",
     "output_type": "stream",
     "text": [
      "Model: \"sequential_2\"\n",
      "_________________________________________________________________\n",
      "Layer (type)                 Output Shape              Param #   \n",
      "=================================================================\n",
      "lstm_1 (LSTM)                (None, 64)                29440     \n",
      "_________________________________________________________________\n",
      "dropout_1 (Dropout)          (None, 64)                0         \n",
      "_________________________________________________________________\n",
      "dense_1 (Dense)              (None, 5)                 325       \n",
      "_________________________________________________________________\n",
      "activation_1 (Activation)    (None, 5)                 0         \n",
      "=================================================================\n",
      "Total params: 29,765\n",
      "Trainable params: 29,765\n",
      "Non-trainable params: 0\n",
      "_________________________________________________________________\n"
     ]
    }
   ],
   "source": [
    "model=Sequential()\n",
    "model.add(LSTM(64,input_shape=(10,50)))\n",
    "model.add(Dropout(0.5))\n",
    "model.add(Dense(5))\n",
    "model.add(Activation('softmax'))\n",
    "model.compile(loss='categorical_crossentropy',optimizer='adam',metrics=['accuracy'])\n",
    "model.summary()"
   ]
  },
  {
   "cell_type": "code",
   "execution_count": 57,
   "metadata": {},
   "outputs": [
    {
     "name": "stdout",
     "output_type": "stream",
     "text": [
      "Epoch 1/40\n",
      "4/4 [==============================] - 1s 153ms/step - loss: 1.6284 - accuracy: 0.1714 - val_loss: 1.5951 - val_accuracy: 0.1852\n",
      "Epoch 2/40\n",
      "4/4 [==============================] - 0s 13ms/step - loss: 1.5826 - accuracy: 0.3048 - val_loss: 1.5925 - val_accuracy: 0.2222\n",
      "Epoch 3/40\n",
      "4/4 [==============================] - 0s 15ms/step - loss: 1.5575 - accuracy: 0.3429 - val_loss: 1.5915 - val_accuracy: 0.2222\n",
      "Epoch 4/40\n",
      "4/4 [==============================] - 0s 13ms/step - loss: 1.5066 - accuracy: 0.3905 - val_loss: 1.5894 - val_accuracy: 0.2222\n",
      "Epoch 5/40\n",
      "4/4 [==============================] - 0s 14ms/step - loss: 1.4701 - accuracy: 0.4476 - val_loss: 1.5797 - val_accuracy: 0.2222\n",
      "Epoch 6/40\n",
      "4/4 [==============================] - 0s 12ms/step - loss: 1.4304 - accuracy: 0.4381 - val_loss: 1.5699 - val_accuracy: 0.1852\n",
      "Epoch 7/40\n",
      "4/4 [==============================] - 0s 12ms/step - loss: 1.3823 - accuracy: 0.4190 - val_loss: 1.5564 - val_accuracy: 0.2222\n",
      "Epoch 8/40\n",
      "4/4 [==============================] - 0s 14ms/step - loss: 1.3494 - accuracy: 0.4667 - val_loss: 1.5298 - val_accuracy: 0.1852\n",
      "Epoch 9/40\n",
      "4/4 [==============================] - 0s 14ms/step - loss: 1.2775 - accuracy: 0.4952 - val_loss: 1.4951 - val_accuracy: 0.2593\n",
      "Epoch 10/40\n",
      "4/4 [==============================] - 0s 15ms/step - loss: 1.2278 - accuracy: 0.5048 - val_loss: 1.4507 - val_accuracy: 0.2222\n",
      "Epoch 11/40\n",
      "4/4 [==============================] - 0s 13ms/step - loss: 1.1388 - accuracy: 0.5619 - val_loss: 1.3853 - val_accuracy: 0.2222\n",
      "Epoch 12/40\n",
      "4/4 [==============================] - 0s 12ms/step - loss: 1.0674 - accuracy: 0.5714 - val_loss: 1.3442 - val_accuracy: 0.3333\n",
      "Epoch 13/40\n",
      "4/4 [==============================] - 0s 14ms/step - loss: 1.0328 - accuracy: 0.6095 - val_loss: 1.2551 - val_accuracy: 0.4815\n",
      "Epoch 14/40\n",
      "4/4 [==============================] - 0s 14ms/step - loss: 0.9152 - accuracy: 0.6762 - val_loss: 1.2493 - val_accuracy: 0.4444\n",
      "Epoch 15/40\n",
      "4/4 [==============================] - 0s 14ms/step - loss: 0.8986 - accuracy: 0.6762 - val_loss: 1.2067 - val_accuracy: 0.4815\n",
      "Epoch 16/40\n",
      "4/4 [==============================] - 0s 12ms/step - loss: 0.8705 - accuracy: 0.6762 - val_loss: 1.1358 - val_accuracy: 0.5185\n",
      "Epoch 17/40\n",
      "4/4 [==============================] - 0s 14ms/step - loss: 0.8174 - accuracy: 0.7333 - val_loss: 1.1043 - val_accuracy: 0.5185\n",
      "Epoch 18/40\n",
      "4/4 [==============================] - 0s 12ms/step - loss: 0.8051 - accuracy: 0.6857 - val_loss: 1.0822 - val_accuracy: 0.5185\n",
      "Epoch 19/40\n",
      "4/4 [==============================] - 0s 14ms/step - loss: 0.6904 - accuracy: 0.7429 - val_loss: 1.2347 - val_accuracy: 0.5185\n",
      "Epoch 20/40\n",
      "4/4 [==============================] - 0s 14ms/step - loss: 0.7358 - accuracy: 0.7429 - val_loss: 1.1237 - val_accuracy: 0.5185\n",
      "Epoch 21/40\n",
      "4/4 [==============================] - 0s 16ms/step - loss: 0.7024 - accuracy: 0.7714 - val_loss: 1.1133 - val_accuracy: 0.5556\n",
      "Epoch 22/40\n",
      "4/4 [==============================] - 0s 12ms/step - loss: 0.6473 - accuracy: 0.7905 - val_loss: 1.0705 - val_accuracy: 0.6296\n",
      "Epoch 23/40\n",
      "4/4 [==============================] - 0s 12ms/step - loss: 0.5738 - accuracy: 0.8095 - val_loss: 0.9512 - val_accuracy: 0.6296\n",
      "Epoch 24/40\n",
      "4/4 [==============================] - 0s 14ms/step - loss: 0.5437 - accuracy: 0.8476 - val_loss: 1.1725 - val_accuracy: 0.4444\n",
      "Epoch 25/40\n",
      "4/4 [==============================] - 0s 13ms/step - loss: 0.5845 - accuracy: 0.8095 - val_loss: 1.0145 - val_accuracy: 0.6296\n",
      "Epoch 26/40\n",
      "4/4 [==============================] - 0s 12ms/step - loss: 0.4263 - accuracy: 0.8571 - val_loss: 0.9277 - val_accuracy: 0.7407\n",
      "Epoch 27/40\n",
      "4/4 [==============================] - 0s 11ms/step - loss: 0.4286 - accuracy: 0.8762 - val_loss: 0.9846 - val_accuracy: 0.7037\n",
      "Epoch 28/40\n",
      "4/4 [==============================] - 0s 14ms/step - loss: 0.4441 - accuracy: 0.8381 - val_loss: 0.9506 - val_accuracy: 0.6667\n",
      "Epoch 29/40\n",
      "4/4 [==============================] - 0s 11ms/step - loss: 0.3402 - accuracy: 0.8952 - val_loss: 1.0385 - val_accuracy: 0.6296\n",
      "Epoch 30/40\n",
      "4/4 [==============================] - 0s 14ms/step - loss: 0.3856 - accuracy: 0.8762 - val_loss: 0.9889 - val_accuracy: 0.6296\n",
      "Epoch 31/40\n",
      "4/4 [==============================] - 0s 12ms/step - loss: 0.3550 - accuracy: 0.8857 - val_loss: 0.8120 - val_accuracy: 0.7778\n",
      "Epoch 32/40\n",
      "4/4 [==============================] - 0s 13ms/step - loss: 0.3198 - accuracy: 0.9143 - val_loss: 0.9238 - val_accuracy: 0.6667\n",
      "Epoch 33/40\n",
      "4/4 [==============================] - 0s 11ms/step - loss: 0.2561 - accuracy: 0.9238 - val_loss: 1.0496 - val_accuracy: 0.5556\n",
      "Epoch 34/40\n",
      "4/4 [==============================] - 0s 15ms/step - loss: 0.3018 - accuracy: 0.9048 - val_loss: 0.8171 - val_accuracy: 0.8148\n",
      "Epoch 35/40\n",
      "4/4 [==============================] - 0s 13ms/step - loss: 0.2778 - accuracy: 0.9048 - val_loss: 0.8021 - val_accuracy: 0.8148\n",
      "Epoch 36/40\n",
      "4/4 [==============================] - 0s 14ms/step - loss: 0.2677 - accuracy: 0.9429 - val_loss: 0.8467 - val_accuracy: 0.7037\n",
      "Epoch 37/40\n",
      "4/4 [==============================] - 0s 14ms/step - loss: 0.2440 - accuracy: 0.9333 - val_loss: 0.9950 - val_accuracy: 0.6667\n",
      "Epoch 38/40\n",
      "4/4 [==============================] - 0s 11ms/step - loss: 0.2159 - accuracy: 0.9619 - val_loss: 0.8884 - val_accuracy: 0.7407\n",
      "Epoch 39/40\n",
      "4/4 [==============================] - 0s 14ms/step - loss: 0.1416 - accuracy: 0.9714 - val_loss: 0.8234 - val_accuracy: 0.7407\n",
      "Epoch 40/40\n",
      "4/4 [==============================] - 0s 14ms/step - loss: 0.1402 - accuracy: 0.9619 - val_loss: 0.8831 - val_accuracy: 0.7778\n"
     ]
    },
    {
     "data": {
      "text/plain": [
       "<tensorflow.python.keras.callbacks.History at 0x1cc48619460>"
      ]
     },
     "execution_count": 57,
     "metadata": {},
     "output_type": "execute_result"
    }
   ],
   "source": [
    "model.fit(embedding_matrix_train,YT,epochs=40,batch_size=32,shuffle=True,validation_split=0.2)"
   ]
  },
  {
   "cell_type": "code",
   "execution_count": 58,
   "metadata": {},
   "outputs": [
    {
     "name": "stdout",
     "output_type": "stream",
     "text": [
      "WARNING:tensorflow:From <ipython-input-58-dbd742b8d885>:1: Sequential.predict_classes (from tensorflow.python.keras.engine.sequential) is deprecated and will be removed after 2021-01-01.\n",
      "Instructions for updating:\n",
      "Please use instead:* `np.argmax(model.predict(x), axis=-1)`,   if your model does multi-class classification   (e.g. if it uses a `softmax` last-layer activation).* `(model.predict(x) > 0.5).astype(\"int32\")`,   if your model does binary classification   (e.g. if it uses a `sigmoid` last-layer activation).\n"
     ]
    }
   ],
   "source": [
    "pred=model.predict_classes(embedding_matrix_test)"
   ]
  },
  {
   "cell_type": "code",
   "execution_count": 60,
   "metadata": {},
   "outputs": [
    {
     "name": "stdout",
     "output_type": "stream",
     "text": [
      "I want to eat\n",
      "🍴\n",
      "he did not answer\n",
      "😓\n",
      "he got a raise\n",
      "😃\n",
      "she got me a present\n",
      "😃\n",
      "ha ha ha it was so funny\n",
      "😃\n",
      "he is a good friend\n",
      "😃\n",
      "I am upset\n",
      "😓\n",
      "We had such a lovely dinner tonight\n",
      "😃\n",
      "where is the food\n",
      "🍴\n",
      "Stop making this joke ha ha ha\n",
      "😃\n",
      "where is the ball\n",
      "⚾\n",
      "work is hard\n",
      "😃\n",
      "This girl is messing with me\n",
      "❤️\n",
      "are you serious ha ha\n",
      "❤️\n",
      "Let us go play baseball\n",
      "⚾\n",
      "This stupid grader is not working\n",
      "😓\n",
      "work is horrible\n",
      "😃\n",
      "Congratulation for having a baby\n",
      "😃\n",
      "stop messing around\n",
      "😓\n",
      "any suggestions for dinner\n",
      "🍴\n",
      "I love taking breaks\n",
      "❤️\n",
      "you brighten my day\n",
      "❤️\n",
      "I boiled rice\n",
      "🍴\n",
      "she is a bully\n",
      "❤️\n",
      "Why are you feeling bad\n",
      "😓\n",
      "I am upset\n",
      "😓\n",
      "I worked during my birthday\n",
      "😃\n",
      "My grandmother is the love of my life\n",
      "❤️\n",
      "enjoy your break\n",
      "⚾\n",
      "valentine day is near\n",
      "😃\n",
      "I miss you so much\n",
      "❤️\n",
      "throw the ball\n",
      "⚾\n",
      "My life is so boring\n",
      "❤️\n",
      "she said yes\n",
      "😃\n",
      "will you be my valentine\n",
      "❤️\n",
      "he can pitch really well\n",
      "😃\n",
      "dance with me\n",
      "😃\n",
      "I am starving\n",
      "😓\n",
      "See you at the restaurant\n",
      "🍴\n",
      "I like to laugh\n",
      "😃\n",
      "I will go dance\n",
      "😃\n",
      "I like your jacket\n",
      "❤️\n",
      "i miss her\n",
      "❤️\n",
      "what is your favorite baseball game\n",
      "⚾\n",
      "Good job\n",
      "😃\n",
      "I love to the stars and back\n",
      "😃\n",
      "What you did was awesome\n",
      "😃\n",
      "ha ha ha lol\n",
      "😃\n",
      "I want to joke\n",
      "😓\n",
      "go away\n",
      "😓\n",
      "yesterday we lost again\n",
      "⚾\n",
      "family is all I have\n",
      "❤️\n",
      "you are failing this exercise\n",
      "😓\n",
      "Good joke\n",
      "😃\n",
      "You totally deserve this prize\n",
      "😃\n",
      "I did not have breakfast\n",
      "❤️\n"
     ]
    }
   ],
   "source": [
    "for i in range(Xt.shape[0]):\n",
    "    print(' '.join(Xt[i]))\n",
    "    print(emoji.emojize(emoji_dictionary[str(pred[i])]))"
   ]
  },
  {
   "cell_type": "code",
   "execution_count": null,
   "metadata": {},
   "outputs": [],
   "source": []
  }
 ],
 "metadata": {
  "kernelspec": {
   "display_name": "Python 3",
   "language": "python",
   "name": "python3"
  },
  "language_info": {
   "codemirror_mode": {
    "name": "ipython",
    "version": 3
   },
   "file_extension": ".py",
   "mimetype": "text/x-python",
   "name": "python",
   "nbconvert_exporter": "python",
   "pygments_lexer": "ipython3",
   "version": "3.8.4rc1"
  }
 },
 "nbformat": 4,
 "nbformat_minor": 4
}
